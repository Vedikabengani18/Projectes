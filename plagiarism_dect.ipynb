{
  "nbformat": 4,
  "nbformat_minor": 0,
  "metadata": {
    "colab": {
      "provenance": []
    },
    "kernelspec": {
      "name": "python3",
      "display_name": "Python 3"
    },
    "language_info": {
      "name": "python"
    }
  },
  "cells": [
    {
      "cell_type": "code",
      "execution_count": null,
      "metadata": {
        "id": "wxvIb45yf6gH"
      },
      "outputs": [],
      "source": [
        "import numpy as np\n",
        "import pandas as pd\n",
        "from sklearn.feature_extraction.text import TfidfVectorizer\n",
        "from sklearn.model_selection import train_test_split\n",
        "from sklearn.linear_model import LogisticRegression\n",
        "from sklearn.metrics import accuracy_score, classification_report\n",
        "\n",
        "# Sample data (replace with your own dataset)\n",
        "data = {\n",
        "    \"text\": [\n",
        "        \"intership by codeclause\",\n",
        "        \"provided by codeclause\",\n",
        "        \"Thank you codeclause\"\n",
        "    ],\n",
        "    \"label\": [0, 1, 0]  # 0: Not plagiarized, 1: Plagiarized\n",
        "}\n",
        "\n",
        "# Create a DataFrame from the data\n",
        "df = pd.DataFrame(data)\n",
        "\n",
        "\n"
      ]
    },
    {
      "cell_type": "code",
      "source": [
        "# Split the data into training and test sets\n",
        "X_train, X_test, y_train, y_test = train_test_split(df['text'], df['label'], test_size=0.2, random_state=42)\n",
        "\n",
        "# Initialize a TF-IDF vectorizer\n",
        "tfidf_vectorizer = TfidfVectorizer(lowercase=True, analyzer='word', stop_words='english', max_features=1000)\n",
        "\n",
        "# Fit and transform the TF-IDF vectorizer on the training data\n",
        "X_train_tfidf = tfidf_vectorizer.fit_transform(X_train)\n",
        "\n",
        "# Transform the test data using the same vectorizer\n",
        "X_test_tfidf = tfidf_vectorizer.transform(X_test)"
      ],
      "metadata": {
        "id": "IeFu9fECJcV1"
      },
      "execution_count": null,
      "outputs": []
    },
    {
      "cell_type": "code",
      "source": [
        "\n",
        "# Initialize and train a logistic regression classifier\n",
        "clf = LogisticRegression()\n",
        "clf.fit(X_train_tfidf, y_train)\n",
        "\n",
        "# Make predictions on the test data\n",
        "y_pred = clf.predict(X_test_tfidf)\n"
      ],
      "metadata": {
        "id": "H-Xz_4CDJexM"
      },
      "execution_count": null,
      "outputs": []
    },
    {
      "cell_type": "code",
      "source": [
        "# Calculate accuracy and print classification report\n",
        "accuracy = accuracy_score(y_test, y_pred)\n",
        "classification_rep = classification_report(y_test, y_pred)\n",
        "\n"
      ],
      "metadata": {
        "id": "oQPK33rOJgdJ"
      },
      "execution_count": null,
      "outputs": []
    },
    {
      "cell_type": "code",
      "source": [
        "# Example usage of the model for a new document\n",
        "new_document = [\"intership by codeclause.\"]\n",
        "new_document_tfidf = tfidf_vectorizer.transform(new_document)\n",
        "prediction = clf.predict(new_document_tfidf)\n",
        "if prediction[0] == 0:\n",
        "    print(\"Not Plagiarized\")\n",
        "else:\n",
        "    print(\"Plagiarized\")"
      ],
      "metadata": {
        "colab": {
          "base_uri": "https://localhost:8080/"
        },
        "id": "9yMsJ3i8JkGQ",
        "outputId": "9d57fc16-2860-493d-a1aa-921016b43a08"
      },
      "execution_count": null,
      "outputs": [
        {
          "output_type": "stream",
          "name": "stdout",
          "text": [
            "Not Plagiarized\n"
          ]
        }
      ]
    },
    {
      "cell_type": "code",
      "source": [
        "print(\"Accuracy:\", accuracy)\n",
        "print(\"Classification Report:\\n\", classification_rep)"
      ],
      "metadata": {
        "colab": {
          "base_uri": "https://localhost:8080/"
        },
        "id": "r08b5qs4JpEO",
        "outputId": "ae384b87-124c-4fbe-9f53-3afc8a764890"
      },
      "execution_count": null,
      "outputs": [
        {
          "output_type": "stream",
          "name": "stdout",
          "text": [
            "Accuracy: 1.0\n",
            "Classification Report:\n",
            "               precision    recall  f1-score   support\n",
            "\n",
            "           0       1.00      1.00      1.00         1\n",
            "\n",
            "    accuracy                           1.00         1\n",
            "   macro avg       1.00      1.00      1.00         1\n",
            "weighted avg       1.00      1.00      1.00         1\n",
            "\n"
          ]
        }
      ]
    },
    {
      "cell_type": "code",
      "source": [
        "# Example usage of the model for a new document\n",
        "new_document = [\"provided by codeclause.\"]\n",
        "new_document_tfidf = tfidf_vectorizer.transform(new_document)\n",
        "prediction = clf.predict(new_document_tfidf)\n",
        "if prediction[0] == 0:\n",
        "    print(\"Not Plagiarized\")\n",
        "else:\n",
        "    print(\"Plagiarized\")"
      ],
      "metadata": {
        "colab": {
          "base_uri": "https://localhost:8080/"
        },
        "id": "hyCV4zAuJpZK",
        "outputId": "38820026-5740-4374-b866-a2313cf2b2f8"
      },
      "execution_count": null,
      "outputs": [
        {
          "output_type": "stream",
          "name": "stdout",
          "text": [
            "Plagiarized\n"
          ]
        }
      ]
    },
    {
      "cell_type": "code",
      "source": [
        "print(\"Accuracy:\", accuracy)\n",
        "print(\"Classification Report:\\n\", classification_rep)"
      ],
      "metadata": {
        "colab": {
          "base_uri": "https://localhost:8080/"
        },
        "id": "IUn-NGywKI_-",
        "outputId": "24acc978-1937-4665-d6ed-193dbb1fee60"
      },
      "execution_count": null,
      "outputs": [
        {
          "output_type": "stream",
          "name": "stdout",
          "text": [
            "Accuracy: 1.0\n",
            "Classification Report:\n",
            "               precision    recall  f1-score   support\n",
            "\n",
            "           0       1.00      1.00      1.00         1\n",
            "\n",
            "    accuracy                           1.00         1\n",
            "   macro avg       1.00      1.00      1.00         1\n",
            "weighted avg       1.00      1.00      1.00         1\n",
            "\n"
          ]
        }
      ]
    },
    {
      "cell_type": "code",
      "source": [],
      "metadata": {
        "id": "c4jBkeCfKLta"
      },
      "execution_count": null,
      "outputs": []
    }
  ]
}