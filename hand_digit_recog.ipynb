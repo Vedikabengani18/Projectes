{
  "nbformat": 4,
  "nbformat_minor": 0,
  "metadata": {
    "colab": {
      "provenance": []
    },
    "kernelspec": {
      "name": "python3",
      "display_name": "Python 3"
    },
    "language_info": {
      "name": "python"
    }
  },
  "cells": [
    {
      "cell_type": "code",
      "source": [
        "import tensorflow.keras as tf  # Import TensorFlow and its Keras API\n",
        "import matplotlib.pyplot as plt  # Import Matplotlib for plotting\n",
        "import numpy as np  # Import NumPy for numerical operations\n",
        "import cv2  # Import OpenCV for image manipulation\n",
        "\n",
        "# Load the MNIST dataset\n",
        "mnist = tf.datasets.mnist  # Access the MNIST dataset\n",
        "(xtrain, ytrain), (xtest, ytest) = mnist.load_data()  # Load the data into training and testing sets\n"
      ],
      "metadata": {
        "id": "RuAGrtBOKSQR"
      },
      "execution_count": null,
      "outputs": []
    },
    {
      "cell_type": "code",
      "source": [
        "# Plot a few sample images from the training set\n",
        "plt.figure(figsize=(7, 8))  # Create a Matplotlib figure for plotting\n",
        "for i in range(20):  # Loop through the first 20 samples\n",
        "    plt.subplot(5, 4, i+1)  # Create subplots in a 5x4 grid\n",
        "    plt.xticks([])  # Remove x-axis ticks\n",
        "    plt.yticks([])  # Remove y-axis ticks\n",
        "    plt.imshow(xtrain[i], cmap='gray')  # Display the image in grayscale\n",
        "    plt.xlabel(ytrain[i])  # Set the label to the digit\n",
        "plt.show()  # Show the plot\n"
      ],
      "metadata": {
        "colab": {
          "base_uri": "https://localhost:8080/",
          "height": 672
        },
        "id": "VGbeGXl9KxEt",
        "outputId": "f3aa650e-a214-4e8a-f90b-59a790a3d8a1"
      },
      "execution_count": null,
      "outputs": [
        {
          "output_type": "display_data",
          "data": {
            "text/plain": [
              "<Figure size 700x800 with 20 Axes>"
            ],
            "image/png": "[encoded data removed]"
          },
          "metadata": {}
        }
      ]
    },
    {
      "cell_type": "code",
      "source": [
        "# Define your neural network model\n",
        "model = tf.models.Sequential()  # Create a Sequential model\n",
        "model.add(tf.layers.Flatten(input_shape=(28, 28)))  # Add a Flatten layer for input\n",
        "model.add(tf.layers.Dense(784, activation='relu'))  # Add a Dense hidden layer with ReLU activation\n",
        "model.add(tf.layers.Dense(10, activation='softmax'))  # Add a Dense output layer with softmax activation\n",
        "model.compile(loss='sparse_categorical_crossentropy', optimizer='adam', metrics=['accuracy'])  # Compile the model\n",
        "\n",
        "# Scale the MNIST data\n",
        "xtrain_scaled = xtrain / 255.0  # Normalize training data\n",
        "xtest_scaled = xtest / 255.0  # Normalize testing data\n",
        "\n",
        "# Train the model\n",
        "model.fit(xtrain_scaled, ytrain, epochs=15)  # Fit the model to the training data\n"
      ],
      "metadata": {
        "colab": {
          "base_uri": "https://localhost:8080/"
        },
        "id": "mc9U58XiMP7h",
        "outputId": "e41bd35f-cc25-442b-9852-4d48b36c1c04"
      },
      "execution_count": null,
      "outputs": [
        {
          "output_type": "stream",
          "name": "stdout",
          "text": [
            "Epoch 1/15\n",
            "1875/1875 [==============================] - 18s 9ms/step - loss: 0.1913 - accuracy: 0.9432\n",
            "Epoch 2/15\n",
            "1875/1875 [==============================] - 16s 9ms/step - loss: 0.0753 - accuracy: 0.9772\n",
            "Epoch 3/15\n",
            "1875/1875 [==============================] - 19s 10ms/step - loss: 0.0489 - accuracy: 0.9850\n",
            "Epoch 4/15\n",
            "1875/1875 [==============================] - 17s 9ms/step - loss: 0.0359 - accuracy: 0.9886\n",
            "Epoch 5/15\n",
            "1875/1875 [==============================] - 16s 9ms/step - loss: 0.0267 - accuracy: 0.9915\n",
            "Epoch 6/15\n",
            "1875/1875 [==============================] - 16s 9ms/step - loss: 0.0210 - accuracy: 0.9934\n",
            "Epoch 7/15\n",
            "1875/1875 [==============================] - 17s 9ms/step - loss: 0.0179 - accuracy: 0.9938\n",
            "Epoch 8/15\n",
            "1875/1875 [==============================] - 16s 9ms/step - loss: 0.0142 - accuracy: 0.9953\n",
            "Epoch 9/15\n",
            "1875/1875 [==============================] - 16s 9ms/step - loss: 0.0134 - accuracy: 0.9954\n",
            "Epoch 10/15\n",
            "1875/1875 [==============================] - 16s 9ms/step - loss: 0.0130 - accuracy: 0.9956\n",
            "Epoch 11/15\n",
            "1875/1875 [==============================] - 17s 9ms/step - loss: 0.0093 - accuracy: 0.9969\n",
            "Epoch 12/15\n",
            "1875/1875 [==============================] - 16s 9ms/step - loss: 0.0100 - accuracy: 0.9965\n",
            "Epoch 13/15\n",
            "1875/1875 [==============================] - 16s 9ms/step - loss: 0.0081 - accuracy: 0.9973\n",
            "Epoch 14/15\n",
            "1875/1875 [==============================] - 17s 9ms/step - loss: 0.0098 - accuracy: 0.9971\n",
            "Epoch 15/15\n",
            "1875/1875 [==============================] - 16s 9ms/step - loss: 0.0071 - accuracy: 0.9977\n"
          ]
        },
        {
          "output_type": "execute_result",
          "data": {
            "text/plain": [
              "<keras.src.callbacks.History at 0x7e5c1bef55a0>"
            ]
          },
          "metadata": {},
          "execution_count": 56
        }
      ]
    },
    {
      "cell_type": "code",
      "source": [
        "\n",
        "# Load and preprocess your custom image\n",
        "img = cv2.imread(\"/2.png\", 0)  # Load the custom image in grayscale\n",
        "img = cv2.resize(img, (28, 28))  # Resize the image to match the model's input size\n",
        "img = cv2.bitwise_not(img)  # Perform a bitwise NOT operation on the image\n",
        "img = img / 255.0  # Normalize the pixel values to [0, 1]\n",
        "img = img.reshape(1, 28, 28)  # Reshape the image to match the input shape of your model\n",
        "\n"
      ],
      "metadata": {
        "id": "KbM6wGo5MQbq"
      },
      "execution_count": null,
      "outputs": []
    },
    {
      "cell_type": "code",
      "source": [
        "# Make a prediction\n",
        "prediction = model.predict(img)  # Use the model to predict the class probabilities\n",
        "predicted= np.argmax(prediction)  # Find the class with the highest probability\n",
        "\n"
      ],
      "metadata": {
        "colab": {
          "base_uri": "https://localhost:8080/"
        },
        "id": "onS44JqPNNnU",
        "outputId": "ea015a6a-7ec4-4c80-d013-9025ad616f29"
      },
      "execution_count": null,
      "outputs": [
        {
          "output_type": "stream",
          "name": "stdout",
          "text": [
            "1/1 [==============================] - 0s 30ms/step\n"
          ]
        }
      ]
    },
    {
      "cell_type": "code",
      "source": [
        "\n",
        "# Display the predicted image with the predicted class label\n",
        "plt.figure(figsize=(4, 4))\n",
        "plt.imshow(img.reshape(28, 28), cmap='gray')\n",
        "plt.title(f\"Predicted Value\")\n",
        "plt.show()\n"
      ],
      "metadata": {
        "colab": {
          "base_uri": "https://localhost:8080/",
          "height": 391
        },
        "id": "zCXA0MCaNPOp",
        "outputId": "80e22fe5-995f-4040-b7b7-e28c27072bcd"
      },
      "execution_count": null,
      "outputs": [
        {
          "output_type": "display_data",
          "data": {
            "text/plain": [
              "<Figure size 400x400 with 1 Axes>"
            ],
            "image/png": "[encoded data removed]"
          },
          "metadata": {}
        }
      ]
    },
    {
      "cell_type": "code",
      "source": [
        "# Print the predicted class\n",
        "print(\"Predicted Value :\", predicted)"
      ],
      "metadata": {
        "colab": {
          "base_uri": "https://localhost:8080/"
        },
        "id": "h56X8E4xNRj-",
        "outputId": "70c8b418-c74c-4f52-fbac-77b33b3bd275"
      },
      "execution_count": null,
      "outputs": [
        {
          "output_type": "stream",
          "name": "stdout",
          "text": [
            "Predicted Value : 2\n"
          ]
        }
      ]
    },
    {
      "cell_type": "code",
      "source": [],
      "metadata": {
        "id": "6zxMBIJtOpDB"
      },
      "execution_count": null,
      "outputs": []
    }
  ]
}