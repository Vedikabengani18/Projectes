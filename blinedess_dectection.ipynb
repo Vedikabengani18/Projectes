{
  "nbformat": 4,
  "nbformat_minor": 0,
  "metadata": {
    "colab": {
      "provenance": []
    },
    "kernelspec": {
      "name": "python3",
      "display_name": "Python 3"
    },
    "language_info": {
      "name": "python"
    }
  },
  "cells": [
    {
      "cell_type": "code",
      "execution_count": null,
      "metadata": {
        "id": "WRwH6KS9KmLR"
      },
      "outputs": [],
      "source": [
        "import numpy as np\n",
        "from sklearn.model_selection import train_test_split\n",
        "from sklearn.ensemble import RandomForestClassifier\n",
        "from sklearn.metrics import accuracy_score, classification_report, confusion_matrix\n",
        "\n",
        "# Generate synthetic eye examination data\n",
        "\n",
        "num_samples = 500000\n",
        "features = np.random.rand(num_samples,15)  # Five features (e.g., measurements)\n",
        "labels = np.random.choice([0, 1], num_samples)  # Binary labels (0: No blindness, 1: Blindness)\n",
        "\n",
        "# Split the data into training and test sets\n",
        "X_train, X_test, y_train, y_test = train_test_split(features, labels, test_size=0.33)\n",
        "\n"
      ]
    },
    {
      "cell_type": "code",
      "source": [
        "# Initialize a machine learning model (Random Forest in this example)\n",
        "model = RandomForestClassifier()\n",
        "\n",
        "# Train the model on the training data\n",
        "model.fit(X_train, y_train)\n",
        "\n",
        "# Make predictions on the test data\n",
        "y_pred = model.predict(X_test)\n",
        "\n",
        "# Evaluate the model's accuracy and performance\n",
        "accuracy = accuracy_score(y_test, y_pred)\n",
        "report = classification_report(y_test, y_pred)\n",
        "confusion = confusion_matrix(y_test, y_pred)\n",
        "\n",
        "print(f'Accuracy: {accuracy:.2f}')\n",
        "print(f'Classification Report:\\n{report}')\n",
        "print('Confusion Matrix:')\n",
        "print(confusion)\n"
      ],
      "metadata": {
        "colab": {
          "base_uri": "https://localhost:8080/"
        },
        "id": "kT4EbkeUP8uG",
        "outputId": "65b5bd04-40cc-4eb9-f3c5-12efe7fcbb22"
      },
      "execution_count": null,
      "outputs": [
        {
          "output_type": "stream",
          "name": "stdout",
          "text": [
            "Accuracy: 0.50\n",
            "Classification Report:\n",
            "              precision    recall  f1-score   support\n",
            "\n",
            "           0       0.50      0.54      0.52     82730\n",
            "           1       0.50      0.47      0.48     82270\n",
            "\n",
            "    accuracy                           0.50    165000\n",
            "   macro avg       0.50      0.50      0.50    165000\n",
            "weighted avg       0.50      0.50      0.50    165000\n",
            "\n",
            "Confusion Matrix:\n",
            "[[44360 38370]\n",
            " [43866 38404]]\n"
          ]
        }
      ]
    },
    {
      "cell_type": "code",
      "source": [
        "import pandas as pd\n",
        "\n",
        "# Create a DataFrame from the features and labels\n",
        "data = pd.DataFrame({'Feature1': features[:, 0],\n",
        "                     'Feature2': features[:, 1],\n",
        "                     'Feature3': features[:, 2],\n",
        "                     'Feature4': features[:, 3],\n",
        "                     'Feature5': features[:, 4],\n",
        "                     'Feature6': features[:, 5],\n",
        "                     'Feature7': features[:, 6],\n",
        "                     'Feature8': features[:, 7],\n",
        "                     'Feature9': features[:, 8],\n",
        "                     'Feature10': features[:, 9],\n",
        "                     'Feature11': features[:, 10],\n",
        "                     'Feature12': features[:, 11],\n",
        "                     'Feature13': features[:, 12],\n",
        "                     'Feature14': features[:, 13],\n",
        "                     'Feature15': features[:, 14],\n",
        "                     'Label': labels})\n",
        "\n",
        "# Save the DataFrame as a CSV file\n",
        "data.to_csv('eye_examination_data.csv', index=False)\n"
      ],
      "metadata": {
        "id": "wh75XAMLRCgT"
      },
      "execution_count": null,
      "outputs": []
    },
    {
      "cell_type": "code",
      "source": [
        "import pandas as pd\n",
        "\n",
        "# Load the dataset\n",
        "data = pd.read_csv('eye_examination_data.csv')\n",
        "# Display the first few rows of the dataset\n",
        "print(data.head())\n",
        "\n",
        "# Get information about the dataset\n",
        "print(data.info())\n",
        "\n",
        "# Summary statistics of numerical features\n",
        "print(data.describe())\n"
      ],
      "metadata": {
        "colab": {
          "base_uri": "https://localhost:8080/"
        },
        "id": "J651AH2ZR0yc",
        "outputId": "aad19223-6e44-4869-fa78-e1da9bfc8faf"
      },
      "execution_count": null,
      "outputs": [
        {
          "output_type": "stream",
          "name": "stdout",
          "text": [
            "   Feature1  Feature2  Feature3  Feature4  Feature5  Feature6  Feature7  \\\n",
            "0  0.291132  0.153175  0.952505  0.621011  0.076378  0.263333  0.230688   \n",
            "1  0.506125  0.058332  0.257076  0.698891  0.827515  0.839572  0.718986   \n",
            "2  0.814432  0.313721  0.850713  0.188477  0.109562  0.930338  0.120547   \n",
            "3  0.376858  0.034144  0.326832  0.746585  0.713496  0.241388  0.312998   \n",
            "4  0.526578  0.651592  0.339673  0.497498  0.898127  0.708611  0.044483   \n",
            "\n",
            "   Feature8  Feature9  Feature10  Feature11  Feature12  Feature13  Feature14  \\\n",
            "0  0.552058  0.595853   0.532922   0.237943   0.707704   0.077353   0.815719   \n",
            "1  0.380340  0.051113   0.825534   0.315859   0.657634   0.833374   0.734466   \n",
            "2  0.511579  0.354788   0.274753   0.848425   0.309902   0.700965   0.700265   \n",
            "3  0.154590  0.396155   0.885584   0.288000   0.430326   0.801905   0.619518   \n",
            "4  0.287792  0.661672   0.067658   0.308224   0.754876   0.167377   0.330998   \n",
            "\n",
            "   Feature15  Label  \n",
            "0   0.129271      0  \n",
            "1   0.023152      0  \n",
            "2   0.007523      0  \n",
            "3   0.721365      1  \n",
            "4   0.734305      1  \n",
            "<class 'pandas.core.frame.DataFrame'>\n",
            "RangeIndex: 500000 entries, 0 to 499999\n",
            "Data columns (total 16 columns):\n",
            " #   Column     Non-Null Count   Dtype  \n",
            "---  ------     --------------   -----  \n",
            " 0   Feature1   500000 non-null  float64\n",
            " 1   Feature2   500000 non-null  float64\n",
            " 2   Feature3   500000 non-null  float64\n",
            " 3   Feature4   500000 non-null  float64\n",
            " 4   Feature5   500000 non-null  float64\n",
            " 5   Feature6   500000 non-null  float64\n",
            " 6   Feature7   500000 non-null  float64\n",
            " 7   Feature8   500000 non-null  float64\n",
            " 8   Feature9   500000 non-null  float64\n",
            " 9   Feature10  500000 non-null  float64\n",
            " 10  Feature11  500000 non-null  float64\n",
            " 11  Feature12  500000 non-null  float64\n",
            " 12  Feature13  500000 non-null  float64\n",
            " 13  Feature14  500000 non-null  float64\n",
            " 14  Feature15  500000 non-null  float64\n",
            " 15  Label      500000 non-null  int64  \n",
            "dtypes: float64(15), int64(1)\n",
            "memory usage: 61.0 MB\n",
            "None\n",
            "            Feature1       Feature2       Feature3       Feature4  \\\n",
            "count  500000.000000  500000.000000  500000.000000  500000.000000   \n",
            "mean        0.499949       0.499949       0.499672       0.498724   \n",
            "std         0.288634       0.288729       0.289102       0.288923   \n",
            "min         0.000001       0.000002       0.000004       0.000002   \n",
            "25%         0.250140       0.250308       0.248917       0.247655   \n",
            "50%         0.500119       0.499795       0.499500       0.498582   \n",
            "75%         0.750024       0.749703       0.750404       0.748556   \n",
            "max         0.999998       0.999999       0.999995       0.999996   \n",
            "\n",
            "            Feature5       Feature6       Feature7       Feature8  \\\n",
            "count  500000.000000  500000.000000  500000.000000  500000.000000   \n",
            "mean        0.500188       0.499845       0.500178       0.500230   \n",
            "std         0.288093       0.288569       0.288445       0.288782   \n",
            "min         0.000002       0.000004       0.000006       0.000008   \n",
            "25%         0.251517       0.249616       0.250616       0.250146   \n",
            "50%         0.500654       0.499432       0.499882       0.500432   \n",
            "75%         0.749223       0.749467       0.750094       0.750448   \n",
            "max         0.999993       0.999999       0.999999       0.999998   \n",
            "\n",
            "           Feature9      Feature10     Feature11     Feature12      Feature13  \\\n",
            "count  5.000000e+05  500000.000000  5.000000e+05  5.000000e+05  500000.000000   \n",
            "mean   4.998299e-01       0.500347  4.995240e-01  5.004682e-01       0.500517   \n",
            "std    2.884622e-01       0.288490  2.887397e-01  2.884510e-01       0.288774   \n",
            "min    2.836623e-07       0.000005  4.262258e-07  9.654634e-07       0.000001   \n",
            "25%    2.499869e-01       0.251266  2.497909e-01  2.508390e-01       0.250439   \n",
            "50%    5.001792e-01       0.500469  4.986980e-01  5.006603e-01       0.501127   \n",
            "75%    7.496649e-01       0.750376  7.495543e-01  7.503364e-01       0.750435   \n",
            "max    9.999994e-01       0.999998  9.999947e-01  9.999967e-01       0.999999   \n",
            "\n",
            "          Feature14      Feature15         Label  \n",
            "count  5.000000e+05  500000.000000  500000.00000  \n",
            "mean   5.000386e-01       0.499960       0.49985  \n",
            "std    2.887073e-01       0.288763       0.50000  \n",
            "min    2.684263e-07       0.000002       0.00000  \n",
            "25%    2.502359e-01       0.249609       0.00000  \n",
            "50%    4.996903e-01       0.500074       0.00000  \n",
            "75%    7.500103e-01       0.750328       1.00000  \n",
            "max    9.999949e-01       1.000000       1.00000  \n"
          ]
        }
      ]
    },
    {
      "cell_type": "code",
      "source": [
        "# Display the first few rows of the dataset\n",
        "print(data.head())\n",
        "\n",
        "# Get information about the dataset\n",
        "print(data.info())\n",
        "\n",
        "# Summary statistics of numerical features\n",
        "print(data.describe())\n",
        "from sklearn.model_selection import train_test_split\n",
        "\n",
        "X = data.drop('Label', axis=1)  # Features\n",
        "y = data['Label']  # Target variable\n",
        "\n",
        "Xtrain, Xtest, ytrain, ytest = train_test_split(X, y, test_size=0.33)\n"
      ],
      "metadata": {
        "colab": {
          "base_uri": "https://localhost:8080/"
        },
        "id": "cvt-Jgq8S2TX",
        "outputId": "0198322a-96fb-439b-e4cb-6ef46e6f8b81"
      },
      "execution_count": null,
      "outputs": [
        {
          "output_type": "stream",
          "name": "stdout",
          "text": [
            "   Feature1  Feature2  Feature3  Feature4  Feature5  Feature6  Feature7  \\\n",
            "0  0.291132  0.153175  0.952505  0.621011  0.076378  0.263333  0.230688   \n",
            "1  0.506125  0.058332  0.257076  0.698891  0.827515  0.839572  0.718986   \n",
            "2  0.814432  0.313721  0.850713  0.188477  0.109562  0.930338  0.120547   \n",
            "3  0.376858  0.034144  0.326832  0.746585  0.713496  0.241388  0.312998   \n",
            "4  0.526578  0.651592  0.339673  0.497498  0.898127  0.708611  0.044483   \n",
            "\n",
            "   Feature8  Feature9  Feature10  Feature11  Feature12  Feature13  Feature14  \\\n",
            "0  0.552058  0.595853   0.532922   0.237943   0.707704   0.077353   0.815719   \n",
            "1  0.380340  0.051113   0.825534   0.315859   0.657634   0.833374   0.734466   \n",
            "2  0.511579  0.354788   0.274753   0.848425   0.309902   0.700965   0.700265   \n",
            "3  0.154590  0.396155   0.885584   0.288000   0.430326   0.801905   0.619518   \n",
            "4  0.287792  0.661672   0.067658   0.308224   0.754876   0.167377   0.330998   \n",
            "\n",
            "   Feature15  Label  \n",
            "0   0.129271      0  \n",
            "1   0.023152      0  \n",
            "2   0.007523      0  \n",
            "3   0.721365      1  \n",
            "4   0.734305      1  \n",
            "<class 'pandas.core.frame.DataFrame'>\n",
            "RangeIndex: 500000 entries, 0 to 499999\n",
            "Data columns (total 16 columns):\n",
            " #   Column     Non-Null Count   Dtype  \n",
            "---  ------     --------------   -----  \n",
            " 0   Feature1   500000 non-null  float64\n",
            " 1   Feature2   500000 non-null  float64\n",
            " 2   Feature3   500000 non-null  float64\n",
            " 3   Feature4   500000 non-null  float64\n",
            " 4   Feature5   500000 non-null  float64\n",
            " 5   Feature6   500000 non-null  float64\n",
            " 6   Feature7   500000 non-null  float64\n",
            " 7   Feature8   500000 non-null  float64\n",
            " 8   Feature9   500000 non-null  float64\n",
            " 9   Feature10  500000 non-null  float64\n",
            " 10  Feature11  500000 non-null  float64\n",
            " 11  Feature12  500000 non-null  float64\n",
            " 12  Feature13  500000 non-null  float64\n",
            " 13  Feature14  500000 non-null  float64\n",
            " 14  Feature15  500000 non-null  float64\n",
            " 15  Label      500000 non-null  int64  \n",
            "dtypes: float64(15), int64(1)\n",
            "memory usage: 61.0 MB\n",
            "None\n",
            "            Feature1       Feature2       Feature3       Feature4  \\\n",
            "count  500000.000000  500000.000000  500000.000000  500000.000000   \n",
            "mean        0.499949       0.499949       0.499672       0.498724   \n",
            "std         0.288634       0.288729       0.289102       0.288923   \n",
            "min         0.000001       0.000002       0.000004       0.000002   \n",
            "25%         0.250140       0.250308       0.248917       0.247655   \n",
            "50%         0.500119       0.499795       0.499500       0.498582   \n",
            "75%         0.750024       0.749703       0.750404       0.748556   \n",
            "max         0.999998       0.999999       0.999995       0.999996   \n",
            "\n",
            "            Feature5       Feature6       Feature7       Feature8  \\\n",
            "count  500000.000000  500000.000000  500000.000000  500000.000000   \n",
            "mean        0.500188       0.499845       0.500178       0.500230   \n",
            "std         0.288093       0.288569       0.288445       0.288782   \n",
            "min         0.000002       0.000004       0.000006       0.000008   \n",
            "25%         0.251517       0.249616       0.250616       0.250146   \n",
            "50%         0.500654       0.499432       0.499882       0.500432   \n",
            "75%         0.749223       0.749467       0.750094       0.750448   \n",
            "max         0.999993       0.999999       0.999999       0.999998   \n",
            "\n",
            "           Feature9      Feature10     Feature11     Feature12      Feature13  \\\n",
            "count  5.000000e+05  500000.000000  5.000000e+05  5.000000e+05  500000.000000   \n",
            "mean   4.998299e-01       0.500347  4.995240e-01  5.004682e-01       0.500517   \n",
            "std    2.884622e-01       0.288490  2.887397e-01  2.884510e-01       0.288774   \n",
            "min    2.836623e-07       0.000005  4.262258e-07  9.654634e-07       0.000001   \n",
            "25%    2.499869e-01       0.251266  2.497909e-01  2.508390e-01       0.250439   \n",
            "50%    5.001792e-01       0.500469  4.986980e-01  5.006603e-01       0.501127   \n",
            "75%    7.496649e-01       0.750376  7.495543e-01  7.503364e-01       0.750435   \n",
            "max    9.999994e-01       0.999998  9.999947e-01  9.999967e-01       0.999999   \n",
            "\n",
            "          Feature14      Feature15         Label  \n",
            "count  5.000000e+05  500000.000000  500000.00000  \n",
            "mean   5.000386e-01       0.499960       0.49985  \n",
            "std    2.887073e-01       0.288763       0.50000  \n",
            "min    2.684263e-07       0.000002       0.00000  \n",
            "25%    2.502359e-01       0.249609       0.00000  \n",
            "50%    4.996903e-01       0.500074       0.00000  \n",
            "75%    7.500103e-01       0.750328       1.00000  \n",
            "max    9.999949e-01       1.000000       1.00000  \n"
          ]
        }
      ]
    },
    {
      "cell_type": "code",
      "source": [
        "from sklearn.linear_model import LogisticRegression\n",
        "\n",
        "model1 = LogisticRegression()\n",
        "model1.fit(X_train, y_train)\n",
        "from sklearn.metrics import accuracy_score, classification_report, confusion_matrix\n",
        "\n",
        "ypred = model1.predict(Xtest)\n",
        "\n",
        "accuracy = accuracy_score(ytest, ypred)\n",
        "report = classification_report(ytest, ypred)\n",
        "confusion = confusion_matrix(ytest, ypred)\n",
        "\n",
        "print(f'Accuracy: {accuracy:.2f}')\n"
      ],
      "metadata": {
        "colab": {
          "base_uri": "https://localhost:8080/"
        },
        "id": "wWdrvfGdS4CC",
        "outputId": "ef1d187c-7deb-422e-8c51-a8710c945659"
      },
      "execution_count": null,
      "outputs": [
        {
          "output_type": "stream",
          "name": "stderr",
          "text": [
            "/usr/local/lib/python3.10/dist-packages/sklearn/base.py:432: UserWarning: X has feature names, but LogisticRegression was fitted without feature names\n",
            "  warnings.warn(\n"
          ]
        },
        {
          "output_type": "stream",
          "name": "stdout",
          "text": [
            "Accuracy: 0.50\n"
          ]
        }
      ]
    },
    {
      "cell_type": "code",
      "source": [],
      "metadata": {
        "id": "4VmI6luGXdbx"
      },
      "execution_count": null,
      "outputs": []
    }
  ]
}